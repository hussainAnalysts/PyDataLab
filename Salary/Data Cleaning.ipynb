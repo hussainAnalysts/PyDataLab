{
 "cells": [
  {
   "cell_type": "code",
   "execution_count": 4,
   "metadata": {},
   "outputs": [],
   "source": [
    "import pandas as pd"
   ]
  },
  {
   "cell_type": "code",
   "execution_count": 10,
   "metadata": {},
   "outputs": [],
   "source": [
    "# Read CSV with flexibility and skip bad lines\n",
    "df = pd.read_csv(r\"C:\\Users\\user\\Desktop\\#\\DA\\practice\\python\\Salary\\salaries.csv\", sep='\\t', engine='python', on_bad_lines='skip')\n",
    "# Remove unwanted characters\n",
    "df = df.replace({\"Â\": \"\", \"Ê¼\": \"'\"}, regex=True)"
   ]
  },
  {
   "cell_type": "code",
   "execution_count": 11,
   "metadata": {},
   "outputs": [
    {
     "data": {
      "text/html": [
       "<div>\n",
       "<style scoped>\n",
       "    .dataframe tbody tr th:only-of-type {\n",
       "        vertical-align: middle;\n",
       "    }\n",
       "\n",
       "    .dataframe tbody tr th {\n",
       "        vertical-align: top;\n",
       "    }\n",
       "\n",
       "    .dataframe thead th {\n",
       "        text-align: right;\n",
       "    }\n",
       "</style>\n",
       "<table border=\"1\" class=\"dataframe\">\n",
       "  <thead>\n",
       "    <tr style=\"text-align: right;\">\n",
       "      <th></th>\n",
       "      <th>role</th>\n",
       "      <th>country</th>\n",
       "      <th>company</th>\n",
       "      <th>company_rating</th>\n",
       "      <th>job_title</th>\n",
       "      <th>median</th>\n",
       "      <th>low</th>\n",
       "      <th>high</th>\n",
       "      <th>unit</th>\n",
       "      <th>Unnamed: 9</th>\n",
       "    </tr>\n",
       "  </thead>\n",
       "  <tbody>\n",
       "    <tr>\n",
       "      <th>0</th>\n",
       "      <td>Data Scientist</td>\n",
       "      <td>Japan</td>\n",
       "      <td>CTW</td>\n",
       "      <td>2.9</td>\n",
       "      <td>Data Scientist</td>\n",
       "      <td>¥1,500,000</td>\n",
       "      <td>¥1M</td>\n",
       "      <td>¥18M</td>\n",
       "      <td>/ yr</td>\n",
       "      <td>NaN</td>\n",
       "    </tr>\n",
       "    <tr>\n",
       "      <th>1</th>\n",
       "      <td>Data Scientist</td>\n",
       "      <td>Japan</td>\n",
       "      <td>FUJIFILM</td>\n",
       "      <td>3.7</td>\n",
       "      <td>Data Scientist</td>\n",
       "      <td>¥5,000,000</td>\n",
       "      <td>¥5M</td>\n",
       "      <td>¥7M</td>\n",
       "      <td>/ yr</td>\n",
       "      <td>NaN</td>\n",
       "    </tr>\n",
       "    <tr>\n",
       "      <th>2</th>\n",
       "      <td>Data Scientist</td>\n",
       "      <td>Japan</td>\n",
       "      <td>GMO Internet</td>\n",
       "      <td>3.3</td>\n",
       "      <td>Data Scientist</td>\n",
       "      <td>¥6,500,000</td>\n",
       "      <td>¥7M</td>\n",
       "      <td>-</td>\n",
       "      <td>/ yr</td>\n",
       "      <td>NaN</td>\n",
       "    </tr>\n",
       "    <tr>\n",
       "      <th>3</th>\n",
       "      <td>Data Scientist</td>\n",
       "      <td>Japan</td>\n",
       "      <td>Data4Cʼs</td>\n",
       "      <td>3.0</td>\n",
       "      <td>Data Scientist</td>\n",
       "      <td>¥350,000</td>\n",
       "      <td>¥300K</td>\n",
       "      <td>¥402K</td>\n",
       "      <td>/ mo</td>\n",
       "      <td>NaN</td>\n",
       "    </tr>\n",
       "    <tr>\n",
       "      <th>4</th>\n",
       "      <td>Data Scientist</td>\n",
       "      <td>Japan</td>\n",
       "      <td>Deloitte</td>\n",
       "      <td>4.0</td>\n",
       "      <td>Data Scientist</td>\n",
       "      <td>¥6,250,000</td>\n",
       "      <td>¥5M</td>\n",
       "      <td>¥8M</td>\n",
       "      <td>/ yr</td>\n",
       "      <td>NaN</td>\n",
       "    </tr>\n",
       "  </tbody>\n",
       "</table>\n",
       "</div>"
      ],
      "text/plain": [
       "             role country       company  company_rating       job_title  \\\n",
       "0  Data Scientist   Japan           CTW             2.9  Data Scientist   \n",
       "1  Data Scientist   Japan      FUJIFILM             3.7  Data Scientist   \n",
       "2  Data Scientist   Japan  GMO Internet             3.3  Data Scientist   \n",
       "3  Data Scientist   Japan      Data4Cʼs             3.0  Data Scientist   \n",
       "4  Data Scientist   Japan      Deloitte             4.0  Data Scientist   \n",
       "\n",
       "       median    low   high   unit  Unnamed: 9  \n",
       "0  ¥1,500,000    ¥1M   ¥18M   / yr         NaN  \n",
       "1  ¥5,000,000    ¥5M    ¥7M   / yr         NaN  \n",
       "2  ¥6,500,000    ¥7M     -    / yr         NaN  \n",
       "3    ¥350,000  ¥300K  ¥402K   / mo         NaN  \n",
       "4  ¥6,250,000    ¥5M    ¥8M   / yr         NaN  "
      ]
     },
     "execution_count": 11,
     "metadata": {},
     "output_type": "execute_result"
    }
   ],
   "source": [
    "df.head()"
   ]
  },
  {
   "cell_type": "code",
   "execution_count": 12,
   "metadata": {},
   "outputs": [
    {
     "data": {
      "text/plain": [
       "Index(['role', 'country', 'company', 'company_rating', 'job_title', 'median',\n",
       "       'low', 'high', 'unit', 'Unnamed: 9'],\n",
       "      dtype='object')"
      ]
     },
     "execution_count": 12,
     "metadata": {},
     "output_type": "execute_result"
    }
   ],
   "source": [
    "df.columns"
   ]
  },
  {
   "cell_type": "markdown",
   "metadata": {},
   "source": [
    "# Data Cleaning"
   ]
  },
  {
   "cell_type": "code",
   "execution_count": 46,
   "metadata": {},
   "outputs": [
    {
     "data": {
      "text/plain": [
       "Index(['role', 'country', 'company', 'company_rating', 'job_title', 'median',\n",
       "       'low', 'high', 'unit'],\n",
       "      dtype='object')"
      ]
     },
     "execution_count": 46,
     "metadata": {},
     "output_type": "execute_result"
    }
   ],
   "source": [
    "df.columns"
   ]
  },
  {
   "cell_type": "code",
   "execution_count": 13,
   "metadata": {},
   "outputs": [],
   "source": [
    "# Drop the 'Unnamed: 9' column\n",
    "df = df.drop(columns=['Unnamed: 9'])\n"
   ]
  },
  {
   "cell_type": "code",
   "execution_count": 49,
   "metadata": {},
   "outputs": [
    {
     "data": {
      "text/plain": [
       "role              0\n",
       "country           0\n",
       "company           0\n",
       "company_rating    0\n",
       "job_title         0\n",
       "median            0\n",
       "low               0\n",
       "high              0\n",
       "unit              0\n",
       "dtype: int64"
      ]
     },
     "execution_count": 49,
     "metadata": {},
     "output_type": "execute_result"
    }
   ],
   "source": [
    "# Checking for missing values\n",
    "df.isnull().sum()\n"
   ]
  },
  {
   "cell_type": "code",
   "execution_count": 48,
   "metadata": {},
   "outputs": [
    {
     "name": "stderr",
     "output_type": "stream",
     "text": [
      "C:\\Users\\user\\AppData\\Local\\Temp\\ipykernel_2488\\705630652.py:1: FutureWarning: A value is trying to be set on a copy of a DataFrame or Series through chained assignment using an inplace method.\n",
      "The behavior will change in pandas 3.0. This inplace method will never work because the intermediate object on which we are setting values always behaves as a copy.\n",
      "\n",
      "For example, when doing 'df[col].method(value, inplace=True)', try using 'df.method({col: value}, inplace=True)' or df[col] = df[col].method(value) instead, to perform the operation inplace on the original object.\n",
      "\n",
      "\n",
      "  df['high'].fillna(df['high'].median(), inplace=True)  # or df['high'].mean()\n"
     ]
    }
   ],
   "source": [
    "df['high'].fillna(df['high'].median(), inplace=True)  # or df['high'].mean()\n"
   ]
  },
  {
   "cell_type": "code",
   "execution_count": 35,
   "metadata": {},
   "outputs": [],
   "source": [
    "# Drop rows where 'company' is null\n",
    "df = df.dropna(subset=['company'])\n"
   ]
  },
  {
   "cell_type": "code",
   "execution_count": 20,
   "metadata": {},
   "outputs": [
    {
     "name": "stderr",
     "output_type": "stream",
     "text": [
      "C:\\Users\\user\\AppData\\Local\\Temp\\ipykernel_2488\\823776447.py:2: SettingWithCopyWarning: \n",
      "A value is trying to be set on a copy of a slice from a DataFrame.\n",
      "Try using .loc[row_indexer,col_indexer] = value instead\n",
      "\n",
      "See the caveats in the documentation: https://pandas.pydata.org/pandas-docs/stable/user_guide/indexing.html#returning-a-view-versus-a-copy\n",
      "  df['median'] = pd.to_numeric(df['median'].str.replace(r'[^\\d.]', '', regex=True), errors='coerce')\n",
      "C:\\Users\\user\\AppData\\Local\\Temp\\ipykernel_2488\\823776447.py:3: SettingWithCopyWarning: \n",
      "A value is trying to be set on a copy of a slice from a DataFrame.\n",
      "Try using .loc[row_indexer,col_indexer] = value instead\n",
      "\n",
      "See the caveats in the documentation: https://pandas.pydata.org/pandas-docs/stable/user_guide/indexing.html#returning-a-view-versus-a-copy\n",
      "  df['low'] = pd.to_numeric(df['low'].str.replace(r'[^\\d.]', '', regex=True), errors='coerce')\n",
      "C:\\Users\\user\\AppData\\Local\\Temp\\ipykernel_2488\\823776447.py:4: SettingWithCopyWarning: \n",
      "A value is trying to be set on a copy of a slice from a DataFrame.\n",
      "Try using .loc[row_indexer,col_indexer] = value instead\n",
      "\n",
      "See the caveats in the documentation: https://pandas.pydata.org/pandas-docs/stable/user_guide/indexing.html#returning-a-view-versus-a-copy\n",
      "  df['high'] = pd.to_numeric(df['high'].str.replace(r'[^\\d.]', '', regex=True), errors='coerce')\n"
     ]
    }
   ],
   "source": [
    "# Clean numeric columns by removing currency symbols, commas, and whitespace\n",
    "df['median'] = pd.to_numeric(df['median'].str.replace(r'[^\\d.]', '', regex=True), errors='coerce')\n",
    "df['low'] = pd.to_numeric(df['low'].str.replace(r'[^\\d.]', '', regex=True), errors='coerce')\n",
    "df['high'] = pd.to_numeric(df['high'].str.replace(r'[^\\d.]', '', regex=True), errors='coerce')\n"
   ]
  },
  {
   "cell_type": "code",
   "execution_count": 22,
   "metadata": {},
   "outputs": [
    {
     "name": "stderr",
     "output_type": "stream",
     "text": [
      "C:\\Users\\user\\AppData\\Local\\Temp\\ipykernel_2488\\1463045581.py:2: SettingWithCopyWarning: \n",
      "A value is trying to be set on a copy of a slice from a DataFrame.\n",
      "Try using .loc[row_indexer,col_indexer] = value instead\n",
      "\n",
      "See the caveats in the documentation: https://pandas.pydata.org/pandas-docs/stable/user_guide/indexing.html#returning-a-view-versus-a-copy\n",
      "  df['company_rating'] = df['company_rating'].fillna(median_rating)\n"
     ]
    }
   ],
   "source": [
    "median_rating = df['company_rating'].median()\n",
    "df['company_rating'] = df['company_rating'].fillna(median_rating)\n"
   ]
  },
  {
   "cell_type": "code",
   "execution_count": 25,
   "metadata": {},
   "outputs": [
    {
     "data": {
      "text/html": [
       "<div>\n",
       "<style scoped>\n",
       "    .dataframe tbody tr th:only-of-type {\n",
       "        vertical-align: middle;\n",
       "    }\n",
       "\n",
       "    .dataframe tbody tr th {\n",
       "        vertical-align: top;\n",
       "    }\n",
       "\n",
       "    .dataframe thead th {\n",
       "        text-align: right;\n",
       "    }\n",
       "</style>\n",
       "<table border=\"1\" class=\"dataframe\">\n",
       "  <thead>\n",
       "    <tr style=\"text-align: right;\">\n",
       "      <th></th>\n",
       "      <th>role</th>\n",
       "      <th>country</th>\n",
       "      <th>company</th>\n",
       "      <th>company_rating</th>\n",
       "      <th>job_title</th>\n",
       "      <th>median</th>\n",
       "      <th>low</th>\n",
       "      <th>high</th>\n",
       "      <th>unit</th>\n",
       "    </tr>\n",
       "  </thead>\n",
       "  <tbody>\n",
       "    <tr>\n",
       "      <th>0</th>\n",
       "      <td>Data Scientist</td>\n",
       "      <td>Japan</td>\n",
       "      <td>CTW</td>\n",
       "      <td>2.9</td>\n",
       "      <td>Data Scientist</td>\n",
       "      <td>1500000</td>\n",
       "      <td>1</td>\n",
       "      <td>18.0</td>\n",
       "      <td>/ yr</td>\n",
       "    </tr>\n",
       "    <tr>\n",
       "      <th>1</th>\n",
       "      <td>Data Scientist</td>\n",
       "      <td>Japan</td>\n",
       "      <td>FUJIFILM</td>\n",
       "      <td>3.7</td>\n",
       "      <td>Data Scientist</td>\n",
       "      <td>5000000</td>\n",
       "      <td>5</td>\n",
       "      <td>7.0</td>\n",
       "      <td>/ yr</td>\n",
       "    </tr>\n",
       "    <tr>\n",
       "      <th>2</th>\n",
       "      <td>Data Scientist</td>\n",
       "      <td>Japan</td>\n",
       "      <td>GMO Internet</td>\n",
       "      <td>3.3</td>\n",
       "      <td>Data Scientist</td>\n",
       "      <td>6500000</td>\n",
       "      <td>7</td>\n",
       "      <td>NaN</td>\n",
       "      <td>/ yr</td>\n",
       "    </tr>\n",
       "    <tr>\n",
       "      <th>3</th>\n",
       "      <td>Data Scientist</td>\n",
       "      <td>Japan</td>\n",
       "      <td>Data4Cʼs</td>\n",
       "      <td>3.0</td>\n",
       "      <td>Data Scientist</td>\n",
       "      <td>350000</td>\n",
       "      <td>300</td>\n",
       "      <td>402.0</td>\n",
       "      <td>/ mo</td>\n",
       "    </tr>\n",
       "    <tr>\n",
       "      <th>4</th>\n",
       "      <td>Data Scientist</td>\n",
       "      <td>Japan</td>\n",
       "      <td>Deloitte</td>\n",
       "      <td>4.0</td>\n",
       "      <td>Data Scientist</td>\n",
       "      <td>6250000</td>\n",
       "      <td>5</td>\n",
       "      <td>8.0</td>\n",
       "      <td>/ yr</td>\n",
       "    </tr>\n",
       "  </tbody>\n",
       "</table>\n",
       "</div>"
      ],
      "text/plain": [
       "             role country       company  company_rating       job_title  \\\n",
       "0  Data Scientist   Japan           CTW             2.9  Data Scientist   \n",
       "1  Data Scientist   Japan      FUJIFILM             3.7  Data Scientist   \n",
       "2  Data Scientist   Japan  GMO Internet             3.3  Data Scientist   \n",
       "3  Data Scientist   Japan      Data4Cʼs             3.0  Data Scientist   \n",
       "4  Data Scientist   Japan      Deloitte             4.0  Data Scientist   \n",
       "\n",
       "    median  low   high   unit  \n",
       "0  1500000    1   18.0   / yr  \n",
       "1  5000000    5    7.0   / yr  \n",
       "2  6500000    7    NaN   / yr  \n",
       "3   350000  300  402.0   / mo  \n",
       "4  6250000    5    8.0   / yr  "
      ]
     },
     "execution_count": 25,
     "metadata": {},
     "output_type": "execute_result"
    }
   ],
   "source": [
    "df.head()"
   ]
  },
  {
   "cell_type": "code",
   "execution_count": 30,
   "metadata": {},
   "outputs": [
    {
     "data": {
      "text/html": [
       "<div>\n",
       "<style scoped>\n",
       "    .dataframe tbody tr th:only-of-type {\n",
       "        vertical-align: middle;\n",
       "    }\n",
       "\n",
       "    .dataframe tbody tr th {\n",
       "        vertical-align: top;\n",
       "    }\n",
       "\n",
       "    .dataframe thead th {\n",
       "        text-align: right;\n",
       "    }\n",
       "</style>\n",
       "<table border=\"1\" class=\"dataframe\">\n",
       "  <thead>\n",
       "    <tr style=\"text-align: right;\">\n",
       "      <th></th>\n",
       "      <th>role</th>\n",
       "      <th>country</th>\n",
       "      <th>company</th>\n",
       "      <th>company_rating</th>\n",
       "      <th>job_title</th>\n",
       "      <th>median</th>\n",
       "      <th>low</th>\n",
       "      <th>high</th>\n",
       "      <th>unit</th>\n",
       "    </tr>\n",
       "  </thead>\n",
       "  <tbody>\n",
       "  </tbody>\n",
       "</table>\n",
       "</div>"
      ],
      "text/plain": [
       "Empty DataFrame\n",
       "Columns: [role, country, company, company_rating, job_title, median, low, high, unit]\n",
       "Index: []"
      ]
     },
     "execution_count": 30,
     "metadata": {},
     "output_type": "execute_result"
    }
   ],
   "source": [
    "df[df[\"role\"]==\"Data\"]"
   ]
  },
  {
   "cell_type": "code",
   "execution_count": 32,
   "metadata": {},
   "outputs": [
    {
     "ename": "AttributeError",
     "evalue": "'DataFrame' object has no attribute 'str'",
     "output_type": "error",
     "traceback": [
      "\u001b[1;31m---------------------------------------------------------------------------\u001b[0m",
      "\u001b[1;31mAttributeError\u001b[0m                            Traceback (most recent call last)",
      "\u001b[1;32m~\\AppData\\Local\\Temp\\ipykernel_2488\\2470853675.py\u001b[0m in \u001b[0;36m?\u001b[1;34m()\u001b[0m\n\u001b[1;32m----> 1\u001b[1;33m \u001b[0mdf\u001b[0m\u001b[1;33m.\u001b[0m\u001b[0mstr\u001b[0m\u001b[1;33m.\u001b[0m\u001b[0mcontains\u001b[0m\u001b[1;33m[\u001b[0m\u001b[1;34m\"Data\"\u001b[0m\u001b[1;33m]\u001b[0m\u001b[1;33m\u001b[0m\u001b[1;33m\u001b[0m\u001b[0m\n\u001b[0m",
      "\u001b[1;32mc:\\Users\\user\\anaconda3\\Lib\\site-packages\\pandas\\core\\generic.py\u001b[0m in \u001b[0;36m?\u001b[1;34m(self, name)\u001b[0m\n\u001b[0;32m   6295\u001b[0m             \u001b[1;32mand\u001b[0m \u001b[0mname\u001b[0m \u001b[1;32mnot\u001b[0m \u001b[1;32min\u001b[0m \u001b[0mself\u001b[0m\u001b[1;33m.\u001b[0m\u001b[0m_accessors\u001b[0m\u001b[1;33m\u001b[0m\u001b[1;33m\u001b[0m\u001b[0m\n\u001b[0;32m   6296\u001b[0m             \u001b[1;32mand\u001b[0m \u001b[0mself\u001b[0m\u001b[1;33m.\u001b[0m\u001b[0m_info_axis\u001b[0m\u001b[1;33m.\u001b[0m\u001b[0m_can_hold_identifiers_and_holds_name\u001b[0m\u001b[1;33m(\u001b[0m\u001b[0mname\u001b[0m\u001b[1;33m)\u001b[0m\u001b[1;33m\u001b[0m\u001b[1;33m\u001b[0m\u001b[0m\n\u001b[0;32m   6297\u001b[0m         \u001b[1;33m)\u001b[0m\u001b[1;33m:\u001b[0m\u001b[1;33m\u001b[0m\u001b[1;33m\u001b[0m\u001b[0m\n\u001b[0;32m   6298\u001b[0m             \u001b[1;32mreturn\u001b[0m \u001b[0mself\u001b[0m\u001b[1;33m[\u001b[0m\u001b[0mname\u001b[0m\u001b[1;33m]\u001b[0m\u001b[1;33m\u001b[0m\u001b[1;33m\u001b[0m\u001b[0m\n\u001b[1;32m-> 6299\u001b[1;33m         \u001b[1;32mreturn\u001b[0m \u001b[0mobject\u001b[0m\u001b[1;33m.\u001b[0m\u001b[0m__getattribute__\u001b[0m\u001b[1;33m(\u001b[0m\u001b[0mself\u001b[0m\u001b[1;33m,\u001b[0m \u001b[0mname\u001b[0m\u001b[1;33m)\u001b[0m\u001b[1;33m\u001b[0m\u001b[1;33m\u001b[0m\u001b[0m\n\u001b[0m",
      "\u001b[1;31mAttributeError\u001b[0m: 'DataFrame' object has no attribute 'str'"
     ]
    }
   ],
   "source": [
    "df.str.contains[\"Data\"]"
   ]
  },
  {
   "cell_type": "code",
   "execution_count": 33,
   "metadata": {},
   "outputs": [
    {
     "data": {
      "text/html": [
       "<div>\n",
       "<style scoped>\n",
       "    .dataframe tbody tr th:only-of-type {\n",
       "        vertical-align: middle;\n",
       "    }\n",
       "\n",
       "    .dataframe tbody tr th {\n",
       "        vertical-align: top;\n",
       "    }\n",
       "\n",
       "    .dataframe thead th {\n",
       "        text-align: right;\n",
       "    }\n",
       "</style>\n",
       "<table border=\"1\" class=\"dataframe\">\n",
       "  <thead>\n",
       "    <tr style=\"text-align: right;\">\n",
       "      <th></th>\n",
       "      <th>role</th>\n",
       "      <th>country</th>\n",
       "      <th>company</th>\n",
       "      <th>company_rating</th>\n",
       "      <th>job_title</th>\n",
       "      <th>median</th>\n",
       "      <th>low</th>\n",
       "      <th>high</th>\n",
       "      <th>unit</th>\n",
       "    </tr>\n",
       "  </thead>\n",
       "  <tbody>\n",
       "    <tr>\n",
       "      <th>0</th>\n",
       "      <td>Data Scientist</td>\n",
       "      <td>Japan</td>\n",
       "      <td>CTW</td>\n",
       "      <td>2.9</td>\n",
       "      <td>Data Scientist</td>\n",
       "      <td>1500000</td>\n",
       "      <td>1</td>\n",
       "      <td>18.0</td>\n",
       "      <td>/ yr</td>\n",
       "    </tr>\n",
       "    <tr>\n",
       "      <th>1</th>\n",
       "      <td>Data Scientist</td>\n",
       "      <td>Japan</td>\n",
       "      <td>FUJIFILM</td>\n",
       "      <td>3.7</td>\n",
       "      <td>Data Scientist</td>\n",
       "      <td>5000000</td>\n",
       "      <td>5</td>\n",
       "      <td>7.0</td>\n",
       "      <td>/ yr</td>\n",
       "    </tr>\n",
       "    <tr>\n",
       "      <th>2</th>\n",
       "      <td>Data Scientist</td>\n",
       "      <td>Japan</td>\n",
       "      <td>GMO Internet</td>\n",
       "      <td>3.3</td>\n",
       "      <td>Data Scientist</td>\n",
       "      <td>6500000</td>\n",
       "      <td>7</td>\n",
       "      <td>NaN</td>\n",
       "      <td>/ yr</td>\n",
       "    </tr>\n",
       "    <tr>\n",
       "      <th>3</th>\n",
       "      <td>Data Scientist</td>\n",
       "      <td>Japan</td>\n",
       "      <td>Data4Cʼs</td>\n",
       "      <td>3.0</td>\n",
       "      <td>Data Scientist</td>\n",
       "      <td>350000</td>\n",
       "      <td>300</td>\n",
       "      <td>402.0</td>\n",
       "      <td>/ mo</td>\n",
       "    </tr>\n",
       "    <tr>\n",
       "      <th>4</th>\n",
       "      <td>Data Scientist</td>\n",
       "      <td>Japan</td>\n",
       "      <td>Deloitte</td>\n",
       "      <td>4.0</td>\n",
       "      <td>Data Scientist</td>\n",
       "      <td>6250000</td>\n",
       "      <td>5</td>\n",
       "      <td>8.0</td>\n",
       "      <td>/ yr</td>\n",
       "    </tr>\n",
       "    <tr>\n",
       "      <th>...</th>\n",
       "      <td>...</td>\n",
       "      <td>...</td>\n",
       "      <td>...</td>\n",
       "      <td>...</td>\n",
       "      <td>...</td>\n",
       "      <td>...</td>\n",
       "      <td>...</td>\n",
       "      <td>...</td>\n",
       "      <td>...</td>\n",
       "    </tr>\n",
       "    <tr>\n",
       "      <th>401182</th>\n",
       "      <td>Data Engineer</td>\n",
       "      <td>Romania</td>\n",
       "      <td>FinProm</td>\n",
       "      <td>2.9</td>\n",
       "      <td>Data Entry Operator</td>\n",
       "      <td>3716</td>\n",
       "      <td>4</td>\n",
       "      <td>4.0</td>\n",
       "      <td>/ mo</td>\n",
       "    </tr>\n",
       "    <tr>\n",
       "      <th>401183</th>\n",
       "      <td>Data Engineer</td>\n",
       "      <td>Romania</td>\n",
       "      <td>GRS</td>\n",
       "      <td>3.0</td>\n",
       "      <td>Data Entry Operator</td>\n",
       "      <td>1612</td>\n",
       "      <td>2</td>\n",
       "      <td>2.0</td>\n",
       "      <td>/ mo</td>\n",
       "    </tr>\n",
       "    <tr>\n",
       "      <th>401184</th>\n",
       "      <td>Data Engineer</td>\n",
       "      <td>Romania</td>\n",
       "      <td>Woods Valldata</td>\n",
       "      <td>2.6</td>\n",
       "      <td>Data Entry Operator</td>\n",
       "      <td>1648</td>\n",
       "      <td>2</td>\n",
       "      <td>2.0</td>\n",
       "      <td>/ yr</td>\n",
       "    </tr>\n",
       "    <tr>\n",
       "      <th>401185</th>\n",
       "      <td>Data Engineer</td>\n",
       "      <td>Romania</td>\n",
       "      <td>FM Logistic</td>\n",
       "      <td>3.5</td>\n",
       "      <td>Data Entry Operator</td>\n",
       "      <td>4908</td>\n",
       "      <td>5</td>\n",
       "      <td>5.0</td>\n",
       "      <td>/ mo</td>\n",
       "    </tr>\n",
       "    <tr>\n",
       "      <th>401186</th>\n",
       "      <td>Data Engineer</td>\n",
       "      <td>Romania</td>\n",
       "      <td>iCredit (Romania)</td>\n",
       "      <td>2.1</td>\n",
       "      <td>Data Entry Operator</td>\n",
       "      <td>1001</td>\n",
       "      <td>969</td>\n",
       "      <td>1.0</td>\n",
       "      <td>/ mo</td>\n",
       "    </tr>\n",
       "  </tbody>\n",
       "</table>\n",
       "<p>313921 rows × 9 columns</p>\n",
       "</div>"
      ],
      "text/plain": [
       "                  role  country            company  company_rating  \\\n",
       "0       Data Scientist    Japan                CTW             2.9   \n",
       "1       Data Scientist    Japan           FUJIFILM             3.7   \n",
       "2       Data Scientist    Japan       GMO Internet             3.3   \n",
       "3       Data Scientist    Japan           Data4Cʼs             3.0   \n",
       "4       Data Scientist    Japan           Deloitte             4.0   \n",
       "...                ...      ...                ...             ...   \n",
       "401182   Data Engineer  Romania            FinProm             2.9   \n",
       "401183   Data Engineer  Romania                GRS             3.0   \n",
       "401184   Data Engineer  Romania     Woods Valldata             2.6   \n",
       "401185   Data Engineer  Romania        FM Logistic             3.5   \n",
       "401186   Data Engineer  Romania  iCredit (Romania)             2.1   \n",
       "\n",
       "                  job_title   median  low   high   unit  \n",
       "0            Data Scientist  1500000    1   18.0   / yr  \n",
       "1            Data Scientist  5000000    5    7.0   / yr  \n",
       "2            Data Scientist  6500000    7    NaN   / yr  \n",
       "3            Data Scientist   350000  300  402.0   / mo  \n",
       "4            Data Scientist  6250000    5    8.0   / yr  \n",
       "...                     ...      ...  ...    ...    ...  \n",
       "401182  Data Entry Operator     3716    4    4.0   / mo  \n",
       "401183  Data Entry Operator     1612    2    2.0   / mo  \n",
       "401184  Data Entry Operator     1648    2    2.0   / yr  \n",
       "401185  Data Entry Operator     4908    5    5.0   / mo  \n",
       "401186  Data Entry Operator     1001  969    1.0   / mo  \n",
       "\n",
       "[313921 rows x 9 columns]"
      ]
     },
     "execution_count": 33,
     "metadata": {},
     "output_type": "execute_result"
    }
   ],
   "source": [
    "# Filter rows where the 'role' column contains 'Data'\n",
    "df[df['role'].str.contains(\"Data\")]\n"
   ]
  },
  {
   "cell_type": "code",
   "execution_count": 36,
   "metadata": {},
   "outputs": [],
   "source": [
    "# Set display option to show all rows\n",
    "pd.set_option('display.max_rows', None)\n",
    "# Set display option to show all columns\n",
    "pd.set_option('display.max_columns', None)\n"
   ]
  },
  {
   "cell_type": "code",
   "execution_count": 44,
   "metadata": {},
   "outputs": [
    {
     "data": {
      "text/plain": [
       "role              3196\n",
       "country           3196\n",
       "company           3196\n",
       "company_rating    3196\n",
       "job_title         3196\n",
       "median            3196\n",
       "low               3196\n",
       "high              3176\n",
       "unit              3196\n",
       "dtype: int64"
      ]
     },
     "execution_count": 44,
     "metadata": {},
     "output_type": "execute_result"
    }
   ],
   "source": [
    "df[df[\"country\"]==\"China\"].count()"
   ]
  },
  {
   "cell_type": "code",
   "execution_count": 50,
   "metadata": {},
   "outputs": [
    {
     "data": {
      "text/plain": [
       "role              47607\n",
       "country           47607\n",
       "company           47607\n",
       "company_rating    47607\n",
       "job_title         47607\n",
       "median            47607\n",
       "low               47607\n",
       "high              47607\n",
       "unit              47607\n",
       "dtype: int64"
      ]
     },
     "execution_count": 50,
     "metadata": {},
     "output_type": "execute_result"
    }
   ],
   "source": [
    "df[df[\"country\"]==\"United States\"].count()"
   ]
  },
  {
   "cell_type": "code",
   "execution_count": 64,
   "metadata": {},
   "outputs": [
    {
     "data": {
      "text/html": [
       "<div>\n",
       "<style scoped>\n",
       "    .dataframe tbody tr th:only-of-type {\n",
       "        vertical-align: middle;\n",
       "    }\n",
       "\n",
       "    .dataframe tbody tr th {\n",
       "        vertical-align: top;\n",
       "    }\n",
       "\n",
       "    .dataframe thead th {\n",
       "        text-align: right;\n",
       "    }\n",
       "</style>\n",
       "<table border=\"1\" class=\"dataframe\">\n",
       "  <thead>\n",
       "    <tr style=\"text-align: right;\">\n",
       "      <th></th>\n",
       "      <th>role</th>\n",
       "      <th>country</th>\n",
       "      <th>company</th>\n",
       "      <th>company_rating</th>\n",
       "      <th>job_title</th>\n",
       "      <th>median</th>\n",
       "      <th>low</th>\n",
       "      <th>high</th>\n",
       "      <th>unit</th>\n",
       "    </tr>\n",
       "  </thead>\n",
       "  <tbody>\n",
       "    <tr>\n",
       "      <th>0</th>\n",
       "      <td>Data Scientist</td>\n",
       "      <td>Japan</td>\n",
       "      <td>CTW</td>\n",
       "      <td>2.9</td>\n",
       "      <td>Data Scientist</td>\n",
       "      <td>1500000</td>\n",
       "      <td>1</td>\n",
       "      <td>18.0</td>\n",
       "      <td>/yr</td>\n",
       "    </tr>\n",
       "    <tr>\n",
       "      <th>1</th>\n",
       "      <td>Data Scientist</td>\n",
       "      <td>Japan</td>\n",
       "      <td>FUJIFILM</td>\n",
       "      <td>3.7</td>\n",
       "      <td>Data Scientist</td>\n",
       "      <td>5000000</td>\n",
       "      <td>5</td>\n",
       "      <td>7.0</td>\n",
       "      <td>/yr</td>\n",
       "    </tr>\n",
       "    <tr>\n",
       "      <th>2</th>\n",
       "      <td>Data Scientist</td>\n",
       "      <td>Japan</td>\n",
       "      <td>GMO Internet</td>\n",
       "      <td>3.3</td>\n",
       "      <td>Data Scientist</td>\n",
       "      <td>6500000</td>\n",
       "      <td>7</td>\n",
       "      <td>48.0</td>\n",
       "      <td>/yr</td>\n",
       "    </tr>\n",
       "    <tr>\n",
       "      <th>3</th>\n",
       "      <td>Data Scientist</td>\n",
       "      <td>Japan</td>\n",
       "      <td>Data4Cʼs</td>\n",
       "      <td>3.0</td>\n",
       "      <td>Data Scientist</td>\n",
       "      <td>350000</td>\n",
       "      <td>300</td>\n",
       "      <td>402.0</td>\n",
       "      <td>/mo</td>\n",
       "    </tr>\n",
       "    <tr>\n",
       "      <th>4</th>\n",
       "      <td>Data Scientist</td>\n",
       "      <td>Japan</td>\n",
       "      <td>Deloitte</td>\n",
       "      <td>4.0</td>\n",
       "      <td>Data Scientist</td>\n",
       "      <td>6250000</td>\n",
       "      <td>5</td>\n",
       "      <td>8.0</td>\n",
       "      <td>/yr</td>\n",
       "    </tr>\n",
       "  </tbody>\n",
       "</table>\n",
       "</div>"
      ],
      "text/plain": [
       "             role country       company  company_rating       job_title  \\\n",
       "0  Data Scientist   Japan           CTW             2.9  Data Scientist   \n",
       "1  Data Scientist   Japan      FUJIFILM             3.7  Data Scientist   \n",
       "2  Data Scientist   Japan  GMO Internet             3.3  Data Scientist   \n",
       "3  Data Scientist   Japan      Data4Cʼs             3.0  Data Scientist   \n",
       "4  Data Scientist   Japan      Deloitte             4.0  Data Scientist   \n",
       "\n",
       "    median  low   high unit  \n",
       "0  1500000    1   18.0  /yr  \n",
       "1  5000000    5    7.0  /yr  \n",
       "2  6500000    7   48.0  /yr  \n",
       "3   350000  300  402.0  /mo  \n",
       "4  6250000    5    8.0  /yr  "
      ]
     },
     "execution_count": 64,
     "metadata": {},
     "output_type": "execute_result"
    }
   ],
   "source": [
    "df.head()"
   ]
  },
  {
   "cell_type": "code",
   "execution_count": 61,
   "metadata": {},
   "outputs": [],
   "source": [
    "# Replace abbreviations with full terms in the 'unit' column\n",
    "df['unit'] = df['unit'].replace({\n",
    "    '/yr': 'per year',\n",
    "    '/mo': 'per month',\n",
    "    '/wk': 'per week',  # if there's a weekly rate\n",
    "    '/hr': 'per hour'   # if there's an hourly rate\n",
    "})\n"
   ]
  },
  {
   "cell_type": "code",
   "execution_count": 58,
   "metadata": {},
   "outputs": [
    {
     "name": "stdout",
     "output_type": "stream",
     "text": [
      "['\\xa0/\\xa0yr' '\\xa0/\\xa0mo' '\\xa0/\\xa0hr']\n"
     ]
    }
   ],
   "source": [
    "# Check unique values in the 'unit' column to identify exact formatting\n",
    "print(df['unit'].unique())\n"
   ]
  },
  {
   "cell_type": "code",
   "execution_count": 65,
   "metadata": {},
   "outputs": [],
   "source": [
    "# Clean extra characters and replace abbreviations with full terms\n",
    "df['unit'] = df['unit'].str.replace(r'[^\\w\\s/]', '', regex=True).str.strip()  # Remove unwanted characters\n",
    "df['unit'] = df['unit'].replace({\n",
    "    '/ yr': 'per year',\n",
    "    '/ mo': 'per month',\n",
    "    '/ wk': 'per week',\n",
    "    '/ hr': 'per hour'\n",
    "})\n"
   ]
  },
  {
   "cell_type": "code",
   "execution_count": 62,
   "metadata": {},
   "outputs": [],
   "source": [
    "# Remove non-breaking spaces and replace abbreviations\n",
    "df['unit'] = df['unit'].str.replace('\\xa0', '', regex=True)\n"
   ]
  },
  {
   "cell_type": "code",
   "execution_count": 69,
   "metadata": {},
   "outputs": [
    {
     "data": {
      "text/html": [
       "<div>\n",
       "<style scoped>\n",
       "    .dataframe tbody tr th:only-of-type {\n",
       "        vertical-align: middle;\n",
       "    }\n",
       "\n",
       "    .dataframe tbody tr th {\n",
       "        vertical-align: top;\n",
       "    }\n",
       "\n",
       "    .dataframe thead th {\n",
       "        text-align: right;\n",
       "    }\n",
       "</style>\n",
       "<table border=\"1\" class=\"dataframe\">\n",
       "  <thead>\n",
       "    <tr style=\"text-align: right;\">\n",
       "      <th></th>\n",
       "      <th>role</th>\n",
       "      <th>country</th>\n",
       "      <th>company</th>\n",
       "      <th>company_rating</th>\n",
       "      <th>job_title</th>\n",
       "      <th>median</th>\n",
       "      <th>low</th>\n",
       "      <th>high</th>\n",
       "      <th>unit</th>\n",
       "    </tr>\n",
       "  </thead>\n",
       "  <tbody>\n",
       "    <tr>\n",
       "      <th>0</th>\n",
       "      <td>Data Scientist</td>\n",
       "      <td>Japan</td>\n",
       "      <td>CTW</td>\n",
       "      <td>2.9</td>\n",
       "      <td>Data Scientist</td>\n",
       "      <td>1500000</td>\n",
       "      <td>1</td>\n",
       "      <td>18.0</td>\n",
       "      <td>/yr</td>\n",
       "    </tr>\n",
       "    <tr>\n",
       "      <th>1</th>\n",
       "      <td>Data Scientist</td>\n",
       "      <td>Japan</td>\n",
       "      <td>FUJIFILM</td>\n",
       "      <td>3.7</td>\n",
       "      <td>Data Scientist</td>\n",
       "      <td>5000000</td>\n",
       "      <td>5</td>\n",
       "      <td>7.0</td>\n",
       "      <td>/yr</td>\n",
       "    </tr>\n",
       "    <tr>\n",
       "      <th>2</th>\n",
       "      <td>Data Scientist</td>\n",
       "      <td>Japan</td>\n",
       "      <td>GMO Internet</td>\n",
       "      <td>3.3</td>\n",
       "      <td>Data Scientist</td>\n",
       "      <td>6500000</td>\n",
       "      <td>7</td>\n",
       "      <td>48.0</td>\n",
       "      <td>/yr</td>\n",
       "    </tr>\n",
       "    <tr>\n",
       "      <th>3</th>\n",
       "      <td>Data Scientist</td>\n",
       "      <td>Japan</td>\n",
       "      <td>Data4Cʼs</td>\n",
       "      <td>3.0</td>\n",
       "      <td>Data Scientist</td>\n",
       "      <td>350000</td>\n",
       "      <td>300</td>\n",
       "      <td>402.0</td>\n",
       "      <td>/mo</td>\n",
       "    </tr>\n",
       "    <tr>\n",
       "      <th>4</th>\n",
       "      <td>Data Scientist</td>\n",
       "      <td>Japan</td>\n",
       "      <td>Deloitte</td>\n",
       "      <td>4.0</td>\n",
       "      <td>Data Scientist</td>\n",
       "      <td>6250000</td>\n",
       "      <td>5</td>\n",
       "      <td>8.0</td>\n",
       "      <td>/yr</td>\n",
       "    </tr>\n",
       "  </tbody>\n",
       "</table>\n",
       "</div>"
      ],
      "text/plain": [
       "             role country       company  company_rating       job_title  \\\n",
       "0  Data Scientist   Japan           CTW             2.9  Data Scientist   \n",
       "1  Data Scientist   Japan      FUJIFILM             3.7  Data Scientist   \n",
       "2  Data Scientist   Japan  GMO Internet             3.3  Data Scientist   \n",
       "3  Data Scientist   Japan      Data4Cʼs             3.0  Data Scientist   \n",
       "4  Data Scientist   Japan      Deloitte             4.0  Data Scientist   \n",
       "\n",
       "    median  low   high unit  \n",
       "0  1500000    1   18.0  /yr  \n",
       "1  5000000    5    7.0  /yr  \n",
       "2  6500000    7   48.0  /yr  \n",
       "3   350000  300  402.0  /mo  \n",
       "4  6250000    5    8.0  /yr  "
      ]
     },
     "execution_count": 69,
     "metadata": {},
     "output_type": "execute_result"
    }
   ],
   "source": [
    "df.head()"
   ]
  },
  {
   "cell_type": "code",
   "execution_count": 67,
   "metadata": {},
   "outputs": [],
   "source": [
    "# Remove non-breaking spaces and replace abbreviations\n",
    "df['unit'] = df['unit'].str.replace('\\xa0', '', regex=True)\n"
   ]
  },
  {
   "cell_type": "code",
   "execution_count": 68,
   "metadata": {},
   "outputs": [],
   "source": [
    "# Remove non-breaking spaces and replace abbreviations\n",
    "df['unit'] = df['unit'].str.replace('\\xa0', '', regex=True)\n"
   ]
  },
  {
   "cell_type": "code",
   "execution_count": 72,
   "metadata": {},
   "outputs": [
    {
     "name": "stdout",
     "output_type": "stream",
     "text": [
      "['per year' 'per month' 'per hour']\n"
     ]
    }
   ],
   "source": [
    "print(df['unit'].unique())\n"
   ]
  },
  {
   "cell_type": "code",
   "execution_count": 71,
   "metadata": {},
   "outputs": [],
   "source": [
    "# Replace abbreviations with full terms\n",
    "df['unit'] = df['unit'].replace({\n",
    "    '/yr': 'per year',\n",
    "    '/mo': 'per month',\n",
    "    '/hr': 'per hour'\n",
    "})\n"
   ]
  },
  {
   "cell_type": "code",
   "execution_count": 73,
   "metadata": {},
   "outputs": [
    {
     "data": {
      "text/html": [
       "<div>\n",
       "<style scoped>\n",
       "    .dataframe tbody tr th:only-of-type {\n",
       "        vertical-align: middle;\n",
       "    }\n",
       "\n",
       "    .dataframe tbody tr th {\n",
       "        vertical-align: top;\n",
       "    }\n",
       "\n",
       "    .dataframe thead th {\n",
       "        text-align: right;\n",
       "    }\n",
       "</style>\n",
       "<table border=\"1\" class=\"dataframe\">\n",
       "  <thead>\n",
       "    <tr style=\"text-align: right;\">\n",
       "      <th></th>\n",
       "      <th>role</th>\n",
       "      <th>country</th>\n",
       "      <th>company</th>\n",
       "      <th>company_rating</th>\n",
       "      <th>job_title</th>\n",
       "      <th>median</th>\n",
       "      <th>low</th>\n",
       "      <th>high</th>\n",
       "      <th>unit</th>\n",
       "    </tr>\n",
       "  </thead>\n",
       "  <tbody>\n",
       "    <tr>\n",
       "      <th>0</th>\n",
       "      <td>Data Scientist</td>\n",
       "      <td>Japan</td>\n",
       "      <td>CTW</td>\n",
       "      <td>2.9</td>\n",
       "      <td>Data Scientist</td>\n",
       "      <td>1500000</td>\n",
       "      <td>1</td>\n",
       "      <td>18.0</td>\n",
       "      <td>per year</td>\n",
       "    </tr>\n",
       "    <tr>\n",
       "      <th>1</th>\n",
       "      <td>Data Scientist</td>\n",
       "      <td>Japan</td>\n",
       "      <td>FUJIFILM</td>\n",
       "      <td>3.7</td>\n",
       "      <td>Data Scientist</td>\n",
       "      <td>5000000</td>\n",
       "      <td>5</td>\n",
       "      <td>7.0</td>\n",
       "      <td>per year</td>\n",
       "    </tr>\n",
       "    <tr>\n",
       "      <th>2</th>\n",
       "      <td>Data Scientist</td>\n",
       "      <td>Japan</td>\n",
       "      <td>GMO Internet</td>\n",
       "      <td>3.3</td>\n",
       "      <td>Data Scientist</td>\n",
       "      <td>6500000</td>\n",
       "      <td>7</td>\n",
       "      <td>48.0</td>\n",
       "      <td>per year</td>\n",
       "    </tr>\n",
       "    <tr>\n",
       "      <th>3</th>\n",
       "      <td>Data Scientist</td>\n",
       "      <td>Japan</td>\n",
       "      <td>Data4Cʼs</td>\n",
       "      <td>3.0</td>\n",
       "      <td>Data Scientist</td>\n",
       "      <td>350000</td>\n",
       "      <td>300</td>\n",
       "      <td>402.0</td>\n",
       "      <td>per month</td>\n",
       "    </tr>\n",
       "    <tr>\n",
       "      <th>4</th>\n",
       "      <td>Data Scientist</td>\n",
       "      <td>Japan</td>\n",
       "      <td>Deloitte</td>\n",
       "      <td>4.0</td>\n",
       "      <td>Data Scientist</td>\n",
       "      <td>6250000</td>\n",
       "      <td>5</td>\n",
       "      <td>8.0</td>\n",
       "      <td>per year</td>\n",
       "    </tr>\n",
       "  </tbody>\n",
       "</table>\n",
       "</div>"
      ],
      "text/plain": [
       "             role country       company  company_rating       job_title  \\\n",
       "0  Data Scientist   Japan           CTW             2.9  Data Scientist   \n",
       "1  Data Scientist   Japan      FUJIFILM             3.7  Data Scientist   \n",
       "2  Data Scientist   Japan  GMO Internet             3.3  Data Scientist   \n",
       "3  Data Scientist   Japan      Data4Cʼs             3.0  Data Scientist   \n",
       "4  Data Scientist   Japan      Deloitte             4.0  Data Scientist   \n",
       "\n",
       "    median  low   high       unit  \n",
       "0  1500000    1   18.0   per year  \n",
       "1  5000000    5    7.0   per year  \n",
       "2  6500000    7   48.0   per year  \n",
       "3   350000  300  402.0  per month  \n",
       "4  6250000    5    8.0   per year  "
      ]
     },
     "execution_count": 73,
     "metadata": {},
     "output_type": "execute_result"
    }
   ],
   "source": [
    "df.head()"
   ]
  },
  {
   "cell_type": "code",
   "execution_count": null,
   "metadata": {},
   "outputs": [],
   "source": []
  }
 ],
 "metadata": {
  "kernelspec": {
   "display_name": "base",
   "language": "python",
   "name": "python3"
  },
  "language_info": {
   "codemirror_mode": {
    "name": "ipython",
    "version": 3
   },
   "file_extension": ".py",
   "mimetype": "text/x-python",
   "name": "python",
   "nbconvert_exporter": "python",
   "pygments_lexer": "ipython3",
   "version": "3.12.4"
  }
 },
 "nbformat": 4,
 "nbformat_minor": 2
}

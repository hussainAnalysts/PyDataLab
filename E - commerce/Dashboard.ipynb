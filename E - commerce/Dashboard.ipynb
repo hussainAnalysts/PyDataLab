{
 "cells": [
  {
   "cell_type": "code",
   "execution_count": 1,
   "metadata": {},
   "outputs": [],
   "source": [
    "# importing the necessary libraries\n",
    "import pandas as pd\n",
    "import matplotlib.pyplot as plt\n",
    "import seaborn as sns\n",
    "import numpy as np\n",
    "import geopandas as gpd\n",
    "import plotly.express as px\n",
    "import dash\n",
    "from dash import dcc, html"
   ]
  },
  {
   "cell_type": "code",
   "execution_count": 2,
   "metadata": {},
   "outputs": [],
   "source": [
    "df = pd.read_csv(r\"C:\\Users\\user\\Desktop\\#\\DA\\practice\\python\\E - commerce\\cleaned_data sets\\merged_data.csv\", low_memory=False)"
   ]
  },
  {
   "cell_type": "code",
   "execution_count": 3,
   "metadata": {},
   "outputs": [],
   "source": [
    "# changing all the columns to apporiate data type to enhance the visualisation\n",
    "df['order_id'] = df['order_id'].astype(str)  # Identifier columns\n",
    "df['customer_id'] = df['customer_id'].astype(str)\n",
    "df['order_status'] = df['order_status'].astype(str)  # Categorical/text data\n",
    "df['order_purchase_timestamp'] = pd.to_datetime(df['order_purchase_timestamp'], errors='coerce')  # DateTime\n",
    "df['order_approved_at'] = pd.to_datetime(df['order_approved_at'], errors='coerce')  # DateTime\n",
    "df['order_delivered_carrier_date'] = pd.to_datetime(df['order_delivered_carrier_date'], errors='coerce')  # DateTime\n",
    "df['order_delivered_customer_date'] = pd.to_datetime(df['order_delivered_customer_date'], errors='coerce')  # DateTime\n",
    "df['order_estimated_delivery_date'] = pd.to_datetime(df['order_estimated_delivery_date'], errors='coerce')  # DateTime\n",
    "df['order_item_id'] = pd.to_numeric(df['order_item_id'], errors='coerce')  # Integer\n",
    "df['product_id'] = df['product_id'].astype(str)  # Identifier\n",
    "df['seller_id'] = df['seller_id'].astype(str)  # Identifier\n",
    "df['shipping_limit_date'] = pd.to_datetime(df['shipping_limit_date'], errors='coerce')  # DateTime\n",
    "df['price'] = pd.to_numeric(df['price'], errors='coerce')  # Numeric\n",
    "df['freight_value'] = pd.to_numeric(df['freight_value'], errors='coerce')  # Numeric\n",
    "df['product_category_name'] = df['product_category_name'].astype(str)  # Categorical/text data\n",
    "df['product_weight_g'] = pd.to_numeric(df['product_weight_g'], errors='coerce')  # Numeric\n",
    "df['customer_unique_id'] = df['customer_unique_id'].astype(str)  # Identifier\n",
    "df['customer_zip_code_prefix'] = df['customer_zip_code_prefix'].astype(str)  # Categorical/text data\n",
    "df['customer_city'] = df['customer_city'].astype(str)  # Categorical/text data\n",
    "df['customer_state'] = df['customer_state'].astype(str)  # Categorical/text data\n",
    "df['payment_sequential'] = pd.to_numeric(df['payment_sequential'], errors='coerce')  # Numeric\n",
    "df['payment_type'] = df['payment_type'].astype(str)  # Categorical/text data\n",
    "df['payment_installments'] = pd.to_numeric(df['payment_installments'], errors='coerce')  # Numeric\n",
    "df['payment_value'] = pd.to_numeric(df['payment_value'], errors='coerce')  # Numeric\n",
    "df['seller_zip_code_prefix'] = df['seller_zip_code_prefix'].astype(str)  # Categorical/text data\n",
    "df['seller_city'] = df['seller_city'].astype(str)  # Categorical/text data\n",
    "df['seller_state'] = df['seller_state'].astype(str)  # Categorical/text data\n",
    "df['product_category_name_eng'] = df['product_category_name_eng'].astype(str)  # Categorical/text data\n"
   ]
  },
  {
   "cell_type": "code",
   "execution_count": 4,
   "metadata": {},
   "outputs": [],
   "source": [
    "# Remove unwanted values from the payment_type column\n",
    "df = df[~df['payment_type'].isin(['not_defined', 'UNKNOWN'])]\n",
    "\n",
    "# Alternatively, you can use boolean indexing\n",
    "# df = df[(df['payment_type'] != 'not_defined') & (df['payment_type'] != 'UNKNOWN')]\n"
   ]
  },
  {
   "cell_type": "code",
   "execution_count": 6,
   "metadata": {},
   "outputs": [
    {
     "data": {
      "text/plain": [
       "array(['credit_card', 'voucher', 'boleto', 'debit_card'], dtype=object)"
      ]
     },
     "execution_count": 6,
     "metadata": {},
     "output_type": "execute_result"
    }
   ],
   "source": [
    "df['payment_type'].unique()"
   ]
  },
  {
   "cell_type": "code",
   "execution_count": 9,
   "metadata": {},
   "outputs": [
    {
     "data": {
      "text/html": [
       "\n",
       "        <iframe\n",
       "            width=\"100%\"\n",
       "            height=\"650\"\n",
       "            src=\"http://127.0.0.1:8050/\"\n",
       "            frameborder=\"0\"\n",
       "            allowfullscreen\n",
       "            \n",
       "        ></iframe>\n",
       "        "
      ],
      "text/plain": [
       "<IPython.lib.display.IFrame at 0x19ec981b0e0>"
      ]
     },
     "metadata": {},
     "output_type": "display_data"
    }
   ],
   "source": []
  },
  {
   "cell_type": "code",
   "execution_count": 15,
   "metadata": {},
   "outputs": [
    {
     "data": {
      "text/html": [
       "\n",
       "        <iframe\n",
       "            width=\"100%\"\n",
       "            height=\"650\"\n",
       "            src=\"http://127.0.0.1:8050/\"\n",
       "            frameborder=\"0\"\n",
       "            allowfullscreen\n",
       "            \n",
       "        ></iframe>\n",
       "        "
      ],
      "text/plain": [
       "<IPython.lib.display.IFrame at 0x19ecc9ec4a0>"
      ]
     },
     "metadata": {},
     "output_type": "display_data"
    }
   ],
   "source": [
    "\n",
    "# Initialize the Dash app\n",
    "app = dash.Dash(__name__)\n",
    "\n",
    "def update_layout(fig):\n",
    "    \"\"\"Update layout for consistency across figures.\"\"\"\n",
    "    fig.update_xaxes(showgrid=False, zeroline=False)\n",
    "    fig.update_yaxes(showgrid=False, zeroline=False)\n",
    "    fig.update_layout(\n",
    "        plot_bgcolor='white',\n",
    "        paper_bgcolor='white',\n",
    "        font=dict(family=\"Arial\", size=12)\n",
    "    )\n",
    "    return fig\n",
    "\n",
    "# Custom function to format the sales values with a dollar sign\n",
    "def format_sales(value):\n",
    "    return f\"${value:,.2f}\"\n",
    "\n",
    "# Define the dashboard layout\n",
    "app.layout = html.Div(style={'fontFamily': 'Arial'}, children=[\n",
    "    html.Div([\n",
    "        html.H1(\"Baana Group Sales Dashboard\", style={'textAlign': 'center', 'color': '#000', 'backgroundColor': '#fff', 'padding': '10px'}),\n",
    "    ]),\n",
    "    \n",
    "    html.Div(style={'padding': '20px'}, children=[\n",
    "        html.H2(\"Sales Performance Analysis\", style={'textAlign': 'left'}),\n",
    "        dcc.Graph(id='daily-sales', figure=update_layout(px.line(sales_performance_daily, x='order_purchase_timestamp', y='total_sales', title='Total Sales by Day', markers=True))),\n",
    "        dcc.Graph(id='monthly-sales', figure=update_layout(px.line(sales_performance_monthly, x='order_purchase_timestamp', y='total_sales', title='Total Sales by Month', markers=True))),\n",
    "        dcc.Graph(id='quarterly-sales', figure=update_layout(px.line(sales_performance_quarterly.sort_values('order_purchase_timestamp'), x='order_purchase_timestamp', y='total_sales', title='Total Sales by Quarter', markers=True))),\n",
    "        dcc.Graph(id='yearly-sales', figure=update_layout(px.line(sales_performance_yearly.sort_values('order_purchase_timestamp'), x='order_purchase_timestamp', y='total_sales', title='Total Sales by Year', markers=True))),\n",
    "        dcc.Graph(id='top-10-categories', figure=update_layout(px.bar(top_10_categories, x='product_category_name', y='total_revenue', title='Top 10 Product Categories', color='total_revenue'))),\n",
    "        dcc.Graph(id='top-10-categories-orders', figure=update_layout(px.bar(top_10_categories_orders, x='product_category_name', y='order_count', title='Top 10 Categories by Order Count', color='order_count'))),\n",
    "        html.P(f\"Average Order Value (AOV): ${aov:.2f}\", style={'fontSize': '20px'}),\n",
    "    ]),\n",
    "\n",
    "    html.Div(style={'padding': '20px'}, children=[\n",
    "        html.H2(\"Payment Methods Analysis\", style={'textAlign': 'left'}),\n",
    "        dcc.Graph(id='payment-distribution', figure=update_layout(px.pie(payment_distribution, names='payment_type', values='count', title='Payment Method Distribution', hole=0.3))),\n",
    "    ]),\n",
    "\n",
    "    html.Div(style={'padding': '20px'}, children=[\n",
    "        html.H2(\"Order Fulfillment and Delivery Efficiency\", style={'textAlign': 'left'}),\n",
    "        html.P(f\"Average Delivery Time: {average_delivery_time:.2f} days\", style={'fontSize': '20px'}),\n",
    "        html.P(f\"Percentage of Delayed Orders: {delayed_orders_percentage:.2f}%\", style={'fontSize': '20px'}),\n",
    "    ]),\n",
    "\n",
    "    html.Div(style={'padding': '20px'}, children=[\n",
    "        html.H2(\"Geographic Insights\", style={'textAlign': 'left'}),\n",
    "        dcc.Graph(id='sales-by-states', figure=update_layout(px.treemap(state_revenue, path=['customer_state'], values='total_revenue', title='Sales by State').update_traces(textinfo='label+value', texttemplate='%{label}: $%{value:,.2f}'))),\n",
    "        dcc.Graph(id='top-10-states', figure=update_layout(px.bar(top_10_states, x='customer_state', y='total_revenue', title='Top 10 States by Revenue', color='total_revenue'))),\n",
    "    ]),\n",
    "\n",
    "    html.Div(style={'padding': '20px'}, children=[\n",
    "        html.H2(\"Sales by Day of the Week\", style={'textAlign': 'left'}),\n",
    "        dcc.Graph(id='sales-by-day', figure=update_layout(px.bar(sales_by_day.reset_index(), x='order_day_of_week', y='total_sales', title='Sales by Day of the Week', color='total_sales'))),\n",
    "    ]),\n",
    "\n",
    "    html.Div(style={'padding': '20px'}, children=[\n",
    "        html.H2(\"Advanced Metrics\", style={'textAlign': 'left'}),\n",
    "        dcc.Graph(\n",
    "            id='orders-vs-payment',\n",
    "            figure=update_layout(px.scatter(orders_payment_value, \n",
    "                                              x='order_id', \n",
    "                                              y='total_payment_value', \n",
    "                                              title='Orders vs Average Payment Value'))\n",
    "                .update_xaxes(tickvals=[1, 3, 4])  # Specify the x-axis ticks here\n",
    "        ),\n",
    "        dcc.Graph(id='heatmap-order-distribution', figure=update_layout(px.density_heatmap(order_distribution_hour, x='order_hour', y='total_orders', title='Order Distribution by Hour'))),\n",
    "        dcc.Graph(id='correlation-price-freight', figure=update_layout(px.scatter(correlation_data, x='price', y='freight_value', title='Correlation Between Price and Freight Value'))),\n",
    "        dcc.Graph(id='delivery-performance-top-products', figure=update_layout(px.bar(top_10_categories, x='product_category_name', y='total_revenue', title='Delivery Performance of Top 10 Categories', color='total_revenue'))),\n",
    "    ]),\n",
    "\n",
    "    html.Div(style={'padding': '20px'}, children=[\n",
    "        html.H2(\"Customer Insights\", style={'textAlign': 'left'}),\n",
    "        dcc.Graph(id='customer-acquisition', figure=update_layout(px.line(customer_acquisition, x='order_purchase_timestamp', y='customer_count', title='Customer Acquisition Over Time', markers=True))),\n",
    "        dcc.Graph(id='top-10-cities', figure=update_layout(px.bar(top_10_cities, x='customer_city', y='order_volume', title='Top 10 Cities by Order Volume', color='order_volume'))),\n",
    "    ]),\n",
    "])\n",
    "\n",
    "if __name__ == '__main__':\n",
    "    app.run_server(debug=True)"
   ]
  }
 ],
 "metadata": {
  "kernelspec": {
   "display_name": "base",
   "language": "python",
   "name": "python3"
  },
  "language_info": {
   "codemirror_mode": {
    "name": "ipython",
    "version": 3
   },
   "file_extension": ".py",
   "mimetype": "text/x-python",
   "name": "python",
   "nbconvert_exporter": "python",
   "pygments_lexer": "ipython3",
   "version": "3.12.4"
  }
 },
 "nbformat": 4,
 "nbformat_minor": 2
}
